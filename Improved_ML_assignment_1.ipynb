{
  "nbformat": 4,
  "nbformat_minor": 0,
  "metadata": {
    "colab": {
      "name": "Improved_ML_assignment_1.ipynb",
      "provenance": [],
      "collapsed_sections": []
    },
    "kernelspec": {
      "name": "python3",
      "display_name": "Python 3"
    }
  },
  "cells": [
    {
      "cell_type": "code",
      "metadata": {
        "id": "tTUgMdnK21mT"
      },
      "source": [
        "## 1. Setup\n",
        "#import statsmodels.api as sm\n",
        "import pandas as pd\n",
        "import matplotlib.pyplot as plt\n",
        "import numpy as np\n",
        "from sklearn.model_selection import train_test_split\n",
        "from sklearn.cluster import AffinityPropagation"
      ],
      "execution_count": null,
      "outputs": []
    },
    {
      "cell_type": "code",
      "metadata": {
        "colab": {
          "base_uri": "https://localhost:8080/"
        },
        "id": "0JKH2f-l4f-8",
        "outputId": "0f9912c3-3a8e-4760-c9a6-758706afca0d"
      },
      "source": [
        "from google.colab import drive\n",
        "drive.mount('/content/drive')"
      ],
      "execution_count": null,
      "outputs": [
        {
          "output_type": "stream",
          "text": [
            "Drive already mounted at /content/drive; to attempt to forcibly remount, call drive.mount(\"/content/drive\", force_remount=True).\n"
          ],
          "name": "stdout"
        }
      ]
    },
    {
      "cell_type": "markdown",
      "metadata": {
        "id": "znSu0I6vWJbu"
      },
      "source": [
        "Описательная статистика\n",
        "\n",
        "---\n",
        "\n"
      ]
    },
    {
      "cell_type": "code",
      "metadata": {
        "id": "slOECmRQ7CQ0",
        "colab": {
          "base_uri": "https://localhost:8080/",
          "height": 233
        },
        "outputId": "71b9a4f2-2cc7-4da2-bc58-c9c3fa97616f"
      },
      "source": [
        "codes = pd.read_csv('/content/drive/MyDrive/datasets/CodesForCourse.csv')\n",
        "codes.head()"
      ],
      "execution_count": null,
      "outputs": [
        {
          "output_type": "execute_result",
          "data": {
            "text/html": [
              "<div>\n",
              "<style scoped>\n",
              "    .dataframe tbody tr th:only-of-type {\n",
              "        vertical-align: middle;\n",
              "    }\n",
              "\n",
              "    .dataframe tbody tr th {\n",
              "        vertical-align: top;\n",
              "    }\n",
              "\n",
              "    .dataframe thead th {\n",
              "        text-align: right;\n",
              "    }\n",
              "</style>\n",
              "<table border=\"1\" class=\"dataframe\">\n",
              "  <thead>\n",
              "    <tr style=\"text-align: right;\">\n",
              "      <th></th>\n",
              "      <th>dept_code</th>\n",
              "      <th>issue_date</th>\n",
              "      <th>issuer</th>\n",
              "      <th>issuer_eng</th>\n",
              "      <th>values</th>\n",
              "    </tr>\n",
              "  </thead>\n",
              "  <tbody>\n",
              "    <tr>\n",
              "      <th>0</th>\n",
              "      <td>20003</td>\n",
              "      <td>2001-11-05</td>\n",
              "      <td>ОУФМС</td>\n",
              "      <td>OUFMS</td>\n",
              "      <td>20003_345</td>\n",
              "    </tr>\n",
              "    <tr>\n",
              "      <th>1</th>\n",
              "      <td>20003</td>\n",
              "      <td>2002-03-22</td>\n",
              "      <td>МВД ПО РЕСПУБЛИКЕ БАШКОРТОСТАН</td>\n",
              "      <td>MVD PO RESPUBLIKE BASHKORTOSTAN</td>\n",
              "      <td>20003_319</td>\n",
              "    </tr>\n",
              "    <tr>\n",
              "      <th>2</th>\n",
              "      <td>20003</td>\n",
              "      <td>2002-05-18</td>\n",
              "      <td>МВД ПО РЕСПУБЛИКЕ БАШКОРТОСТАН</td>\n",
              "      <td>MVD PO RESPUBLIKE BASHKORTOSTAN</td>\n",
              "      <td>20003_319</td>\n",
              "    </tr>\n",
              "    <tr>\n",
              "      <th>3</th>\n",
              "      <td>20003</td>\n",
              "      <td>2002-08-13</td>\n",
              "      <td>ОТДЕЛОМ УФМС РОССИИ ПО РЕСПУБЛИКЕ БАШКОРТОСТАН...</td>\n",
              "      <td>OTDELOM UFMS ROSSII PO RESPUBLIKE BASHKORTOSTA...</td>\n",
              "      <td>20003_346</td>\n",
              "    </tr>\n",
              "    <tr>\n",
              "      <th>4</th>\n",
              "      <td>20003</td>\n",
              "      <td>2003-07-17</td>\n",
              "      <td>ОТДЕЛОМ УФМС РОССИИ ПО РЕСПУБЛИКЕ БАШКОРТОСТАН...</td>\n",
              "      <td>OTDELOM UFMS ROSSII PO RESPUBLIKE BASHKORTOSTA...</td>\n",
              "      <td>20003_347</td>\n",
              "    </tr>\n",
              "  </tbody>\n",
              "</table>\n",
              "</div>"
            ],
            "text/plain": [
              "   dept_code  ...     values\n",
              "0      20003  ...  20003_345\n",
              "1      20003  ...  20003_319\n",
              "2      20003  ...  20003_319\n",
              "3      20003  ...  20003_346\n",
              "4      20003  ...  20003_347\n",
              "\n",
              "[5 rows x 5 columns]"
            ]
          },
          "metadata": {
            "tags": []
          },
          "execution_count": 175
        }
      ]
    },
    {
      "cell_type": "markdown",
      "metadata": {
        "id": "sMeXoJ8rHxcd"
      },
      "source": [
        "Each id has a unique number, the issue date, a code that represents where the id was issued (dept_code in the data) and the description of the place where the id was issued (issue_eng). "
      ]
    },
    {
      "cell_type": "code",
      "metadata": {
        "colab": {
          "base_uri": "https://localhost:8080/",
          "height": 285
        },
        "id": "VQ9DRourIuWl",
        "outputId": "34090b82-e9f2-4552-84ae-1495678664f0"
      },
      "source": [
        "codes.tail()"
      ],
      "execution_count": null,
      "outputs": [
        {
          "output_type": "execute_result",
          "data": {
            "text/html": [
              "<div>\n",
              "<style scoped>\n",
              "    .dataframe tbody tr th:only-of-type {\n",
              "        vertical-align: middle;\n",
              "    }\n",
              "\n",
              "    .dataframe tbody tr th {\n",
              "        vertical-align: top;\n",
              "    }\n",
              "\n",
              "    .dataframe thead th {\n",
              "        text-align: right;\n",
              "    }\n",
              "</style>\n",
              "<table border=\"1\" class=\"dataframe\">\n",
              "  <thead>\n",
              "    <tr style=\"text-align: right;\">\n",
              "      <th></th>\n",
              "      <th>dept_code</th>\n",
              "      <th>issue_date</th>\n",
              "      <th>issuer</th>\n",
              "      <th>issuer_eng</th>\n",
              "      <th>values</th>\n",
              "    </tr>\n",
              "  </thead>\n",
              "  <tbody>\n",
              "    <tr>\n",
              "      <th>104406</th>\n",
              "      <td>860004</td>\n",
              "      <td>2019-11-22</td>\n",
              "      <td>УМВД РОССИИ ПО ХАНТЫ-МАНСИЙСКОМУ АВТОНОМНОМУ О...</td>\n",
              "      <td>UMVD ROSSII PO HANTY-MANSIJSKOMU AVTONOMNOMU O...</td>\n",
              "      <td>860004_42927</td>\n",
              "    </tr>\n",
              "    <tr>\n",
              "      <th>104407</th>\n",
              "      <td>860004</td>\n",
              "      <td>2019-11-22</td>\n",
              "      <td>УМВД РОССИИ ПО ХАНТЫ-МАНСИЙСКОМУ АВТОНОМНОМУ О...</td>\n",
              "      <td>UMVD ROSSII PO HANTY-MANSIJSKOMU AVTONOMNOMU O...</td>\n",
              "      <td>860004_42927</td>\n",
              "    </tr>\n",
              "    <tr>\n",
              "      <th>104408</th>\n",
              "      <td>860004</td>\n",
              "      <td>2019-12-10</td>\n",
              "      <td>УМВД РОССИИ ПО ХАНТЫ-МАНСИЙСКОМУ АВТОНОМНОМУ О...</td>\n",
              "      <td>UMVD ROSSII PO HANTY-MANSIJSKOMU AVTONOMNOMU O...</td>\n",
              "      <td>860004_111661</td>\n",
              "    </tr>\n",
              "    <tr>\n",
              "      <th>104409</th>\n",
              "      <td>860004</td>\n",
              "      <td>2019-12-16</td>\n",
              "      <td>УМВД РОССИИ ПО ХАНТЫ-МАНСИЙСКОМУ АВТОНОМНОМУ О...</td>\n",
              "      <td>UMVD ROSSII PO HANTY-MANSIJSKOMU AVTONOMNOMU O...</td>\n",
              "      <td>860004_42927</td>\n",
              "    </tr>\n",
              "    <tr>\n",
              "      <th>104410</th>\n",
              "      <td>860004</td>\n",
              "      <td>2020-01-11</td>\n",
              "      <td>УМВД РОССИИ ПО ХАНТЫ-МАНСИЙСКОМУ АВТОНОМНОМУ О...</td>\n",
              "      <td>UMVD ROSSII PO HANTY-MANSIJSKOMU AVTONOMNOMU O...</td>\n",
              "      <td>860004_42927</td>\n",
              "    </tr>\n",
              "  </tbody>\n",
              "</table>\n",
              "</div>"
            ],
            "text/plain": [
              "        dept_code  ...         values\n",
              "104406     860004  ...   860004_42927\n",
              "104407     860004  ...   860004_42927\n",
              "104408     860004  ...  860004_111661\n",
              "104409     860004  ...   860004_42927\n",
              "104410     860004  ...   860004_42927\n",
              "\n",
              "[5 rows x 5 columns]"
            ]
          },
          "metadata": {
            "tags": []
          },
          "execution_count": 176
        }
      ]
    },
    {
      "cell_type": "code",
      "metadata": {
        "colab": {
          "base_uri": "https://localhost:8080/",
          "height": 288
        },
        "id": "WxNFjFwrPXxG",
        "outputId": "52b2d3a1-58da-491f-c09b-161c83e41d9e"
      },
      "source": [
        "dept_codes_counted = codes.groupby(\"dept_code\").count()\n",
        "dept_codes_counted = dept_codes_counted[['values']]\n",
        "dept_codes_counted.describe()"
      ],
      "execution_count": null,
      "outputs": [
        {
          "output_type": "execute_result",
          "data": {
            "text/html": [
              "<div>\n",
              "<style scoped>\n",
              "    .dataframe tbody tr th:only-of-type {\n",
              "        vertical-align: middle;\n",
              "    }\n",
              "\n",
              "    .dataframe tbody tr th {\n",
              "        vertical-align: top;\n",
              "    }\n",
              "\n",
              "    .dataframe thead th {\n",
              "        text-align: right;\n",
              "    }\n",
              "</style>\n",
              "<table border=\"1\" class=\"dataframe\">\n",
              "  <thead>\n",
              "    <tr style=\"text-align: right;\">\n",
              "      <th></th>\n",
              "      <th>values</th>\n",
              "    </tr>\n",
              "  </thead>\n",
              "  <tbody>\n",
              "    <tr>\n",
              "      <th>count</th>\n",
              "      <td>42.000000</td>\n",
              "    </tr>\n",
              "    <tr>\n",
              "      <th>mean</th>\n",
              "      <td>2485.976190</td>\n",
              "    </tr>\n",
              "    <tr>\n",
              "      <th>std</th>\n",
              "      <td>545.645355</td>\n",
              "    </tr>\n",
              "    <tr>\n",
              "      <th>min</th>\n",
              "      <td>2011.000000</td>\n",
              "    </tr>\n",
              "    <tr>\n",
              "      <th>25%</th>\n",
              "      <td>2154.000000</td>\n",
              "    </tr>\n",
              "    <tr>\n",
              "      <th>50%</th>\n",
              "      <td>2317.000000</td>\n",
              "    </tr>\n",
              "    <tr>\n",
              "      <th>75%</th>\n",
              "      <td>2582.500000</td>\n",
              "    </tr>\n",
              "    <tr>\n",
              "      <th>max</th>\n",
              "      <td>4804.000000</td>\n",
              "    </tr>\n",
              "  </tbody>\n",
              "</table>\n",
              "</div>"
            ],
            "text/plain": [
              "            values\n",
              "count    42.000000\n",
              "mean   2485.976190\n",
              "std     545.645355\n",
              "min    2011.000000\n",
              "25%    2154.000000\n",
              "50%    2317.000000\n",
              "75%    2582.500000\n",
              "max    4804.000000"
            ]
          },
          "metadata": {
            "tags": []
          },
          "execution_count": 177
        }
      ]
    },
    {
      "cell_type": "code",
      "metadata": {
        "id": "KRIyJd9WlTix",
        "colab": {
          "base_uri": "https://localhost:8080/"
        },
        "outputId": "f19f2655-3ad4-457c-ac74-6a4959526e1d"
      },
      "source": [
        "codes.count()"
      ],
      "execution_count": null,
      "outputs": [
        {
          "output_type": "execute_result",
          "data": {
            "text/plain": [
              "dept_code     104411\n",
              "issue_date    104411\n",
              "issuer        104411\n",
              "issuer_eng    104411\n",
              "values        104411\n",
              "dtype: int64"
            ]
          },
          "metadata": {
            "tags": []
          },
          "execution_count": 178
        }
      ]
    },
    {
      "cell_type": "markdown",
      "metadata": {
        "id": "ofw2sGSEjqL_"
      },
      "source": [
        "всего наблюдений в таблице 104411, без пропущенных значений\n",
        "\n",
        "уникальных кодов - 42, на каждый код существует от 2011 до 4804 наблюдений"
      ]
    },
    {
      "cell_type": "code",
      "metadata": {
        "colab": {
          "base_uri": "https://localhost:8080/",
          "height": 288
        },
        "id": "bbFPQWCwOgEb",
        "outputId": "b4bb948d-bc43-4ec4-d343-3c6cf6556dc9"
      },
      "source": [
        "issuer_counted = codes.groupby(by=[\"dept_code\", \"issuer\"]).count()\n",
        "issuer_counted = issuer_counted[['values']]\n",
        "issuer_counted.head()\n",
        "issuer_counted.describe()"
      ],
      "execution_count": null,
      "outputs": [
        {
          "output_type": "execute_result",
          "data": {
            "text/html": [
              "<div>\n",
              "<style scoped>\n",
              "    .dataframe tbody tr th:only-of-type {\n",
              "        vertical-align: middle;\n",
              "    }\n",
              "\n",
              "    .dataframe tbody tr th {\n",
              "        vertical-align: top;\n",
              "    }\n",
              "\n",
              "    .dataframe thead th {\n",
              "        text-align: right;\n",
              "    }\n",
              "</style>\n",
              "<table border=\"1\" class=\"dataframe\">\n",
              "  <thead>\n",
              "    <tr style=\"text-align: right;\">\n",
              "      <th></th>\n",
              "      <th>values</th>\n",
              "    </tr>\n",
              "  </thead>\n",
              "  <tbody>\n",
              "    <tr>\n",
              "      <th>count</th>\n",
              "      <td>4520.000000</td>\n",
              "    </tr>\n",
              "    <tr>\n",
              "      <th>mean</th>\n",
              "      <td>23.099779</td>\n",
              "    </tr>\n",
              "    <tr>\n",
              "      <th>std</th>\n",
              "      <td>150.681751</td>\n",
              "    </tr>\n",
              "    <tr>\n",
              "      <th>min</th>\n",
              "      <td>1.000000</td>\n",
              "    </tr>\n",
              "    <tr>\n",
              "      <th>25%</th>\n",
              "      <td>1.000000</td>\n",
              "    </tr>\n",
              "    <tr>\n",
              "      <th>50%</th>\n",
              "      <td>1.000000</td>\n",
              "    </tr>\n",
              "    <tr>\n",
              "      <th>75%</th>\n",
              "      <td>2.000000</td>\n",
              "    </tr>\n",
              "    <tr>\n",
              "      <th>max</th>\n",
              "      <td>2821.000000</td>\n",
              "    </tr>\n",
              "  </tbody>\n",
              "</table>\n",
              "</div>"
            ],
            "text/plain": [
              "            values\n",
              "count  4520.000000\n",
              "mean     23.099779\n",
              "std     150.681751\n",
              "min       1.000000\n",
              "25%       1.000000\n",
              "50%       1.000000\n",
              "75%       2.000000\n",
              "max    2821.000000"
            ]
          },
          "metadata": {
            "tags": []
          },
          "execution_count": 179
        }
      ]
    },
    {
      "cell_type": "markdown",
      "metadata": {
        "id": "jnNJ9wqFRM-q"
      },
      "source": [
        "На русском всего различных вариантов текста 4520. на каждый вариант текста приходится от 1 до 2821 наблюдений со средним значением в 23. Причем половина текстовых вариантов встречается только по одному разу, значит, в них высока вероятность опечаток или редкоиспользуемых сокращений  \n",
        "\n",
        "На английском всего 4514 текстов, остальное, как на русском."
      ]
    },
    {
      "cell_type": "code",
      "metadata": {
        "colab": {
          "base_uri": "https://localhost:8080/",
          "height": 288
        },
        "id": "8GVbE6InPXoU",
        "outputId": "57c028c0-5376-4716-d8d2-d3d9d075d7ce"
      },
      "source": [
        "issuer_eng_counted = codes.groupby(by=[\"dept_code\", \"issuer_eng\"]).count()\n",
        "issuer_eng_counted = issuer_eng_counted[['values']]\n",
        "issuer_eng_counted.describe()"
      ],
      "execution_count": null,
      "outputs": [
        {
          "output_type": "execute_result",
          "data": {
            "text/html": [
              "<div>\n",
              "<style scoped>\n",
              "    .dataframe tbody tr th:only-of-type {\n",
              "        vertical-align: middle;\n",
              "    }\n",
              "\n",
              "    .dataframe tbody tr th {\n",
              "        vertical-align: top;\n",
              "    }\n",
              "\n",
              "    .dataframe thead th {\n",
              "        text-align: right;\n",
              "    }\n",
              "</style>\n",
              "<table border=\"1\" class=\"dataframe\">\n",
              "  <thead>\n",
              "    <tr style=\"text-align: right;\">\n",
              "      <th></th>\n",
              "      <th>values</th>\n",
              "    </tr>\n",
              "  </thead>\n",
              "  <tbody>\n",
              "    <tr>\n",
              "      <th>count</th>\n",
              "      <td>4514.000000</td>\n",
              "    </tr>\n",
              "    <tr>\n",
              "      <th>mean</th>\n",
              "      <td>23.130483</td>\n",
              "    </tr>\n",
              "    <tr>\n",
              "      <th>std</th>\n",
              "      <td>150.797906</td>\n",
              "    </tr>\n",
              "    <tr>\n",
              "      <th>min</th>\n",
              "      <td>1.000000</td>\n",
              "    </tr>\n",
              "    <tr>\n",
              "      <th>25%</th>\n",
              "      <td>1.000000</td>\n",
              "    </tr>\n",
              "    <tr>\n",
              "      <th>50%</th>\n",
              "      <td>1.000000</td>\n",
              "    </tr>\n",
              "    <tr>\n",
              "      <th>75%</th>\n",
              "      <td>2.000000</td>\n",
              "    </tr>\n",
              "    <tr>\n",
              "      <th>max</th>\n",
              "      <td>2821.000000</td>\n",
              "    </tr>\n",
              "  </tbody>\n",
              "</table>\n",
              "</div>"
            ],
            "text/plain": [
              "            values\n",
              "count  4514.000000\n",
              "mean     23.130483\n",
              "std     150.797906\n",
              "min       1.000000\n",
              "25%       1.000000\n",
              "50%       1.000000\n",
              "75%       2.000000\n",
              "max    2821.000000"
            ]
          },
          "metadata": {
            "tags": []
          },
          "execution_count": 180
        }
      ]
    },
    {
      "cell_type": "code",
      "metadata": {
        "id": "sJ1iYEfKatV0"
      },
      "source": [
        "codes['issue_date'] = pd.to_datetime(codes['issue_date'])\n",
        "#codes['month&year'] = codes['issue_date'].dt.to_period('M')\n",
        "#codes['month&year']"
      ],
      "execution_count": null,
      "outputs": []
    },
    {
      "cell_type": "code",
      "metadata": {
        "id": "gBHNtUQnWQEu",
        "colab": {
          "base_uri": "https://localhost:8080/",
          "height": 288
        },
        "outputId": "f4eea8a6-a43f-49a6-dd93-3a65f78d0470"
      },
      "source": [
        "text_length = [len(i) for i in codes['issuer_eng']]\n",
        "text_length = pd.DataFrame(text_length, columns=['text'])\n",
        "text_length = text_length.join(codes[[\"issuer_eng\"]])\n",
        "text_length.describe()"
      ],
      "execution_count": null,
      "outputs": [
        {
          "output_type": "execute_result",
          "data": {
            "text/html": [
              "<div>\n",
              "<style scoped>\n",
              "    .dataframe tbody tr th:only-of-type {\n",
              "        vertical-align: middle;\n",
              "    }\n",
              "\n",
              "    .dataframe tbody tr th {\n",
              "        vertical-align: top;\n",
              "    }\n",
              "\n",
              "    .dataframe thead th {\n",
              "        text-align: right;\n",
              "    }\n",
              "</style>\n",
              "<table border=\"1\" class=\"dataframe\">\n",
              "  <thead>\n",
              "    <tr style=\"text-align: right;\">\n",
              "      <th></th>\n",
              "      <th>text</th>\n",
              "    </tr>\n",
              "  </thead>\n",
              "  <tbody>\n",
              "    <tr>\n",
              "      <th>count</th>\n",
              "      <td>104411.000000</td>\n",
              "    </tr>\n",
              "    <tr>\n",
              "      <th>mean</th>\n",
              "      <td>65.164082</td>\n",
              "    </tr>\n",
              "    <tr>\n",
              "      <th>std</th>\n",
              "      <td>14.729673</td>\n",
              "    </tr>\n",
              "    <tr>\n",
              "      <th>min</th>\n",
              "      <td>3.000000</td>\n",
              "    </tr>\n",
              "    <tr>\n",
              "      <th>25%</th>\n",
              "      <td>58.000000</td>\n",
              "    </tr>\n",
              "    <tr>\n",
              "      <th>50%</th>\n",
              "      <td>67.000000</td>\n",
              "    </tr>\n",
              "    <tr>\n",
              "      <th>75%</th>\n",
              "      <td>76.000000</td>\n",
              "    </tr>\n",
              "    <tr>\n",
              "      <th>max</th>\n",
              "      <td>133.000000</td>\n",
              "    </tr>\n",
              "  </tbody>\n",
              "</table>\n",
              "</div>"
            ],
            "text/plain": [
              "                text\n",
              "count  104411.000000\n",
              "mean       65.164082\n",
              "std        14.729673\n",
              "min         3.000000\n",
              "25%        58.000000\n",
              "50%        67.000000\n",
              "75%        76.000000\n",
              "max       133.000000"
            ]
          },
          "metadata": {
            "tags": []
          },
          "execution_count": 182
        }
      ]
    },
    {
      "cell_type": "code",
      "metadata": {
        "colab": {
          "base_uri": "https://localhost:8080/",
          "height": 138
        },
        "id": "iIYsSa_AlGXM",
        "outputId": "e21ebf63-d70f-4367-ff51-dd5731a165ef"
      },
      "source": [
        "text_length.loc[text_length.text <= 3]"
      ],
      "execution_count": null,
      "outputs": [
        {
          "output_type": "execute_result",
          "data": {
            "text/html": [
              "<div>\n",
              "<style scoped>\n",
              "    .dataframe tbody tr th:only-of-type {\n",
              "        vertical-align: middle;\n",
              "    }\n",
              "\n",
              "    .dataframe tbody tr th {\n",
              "        vertical-align: top;\n",
              "    }\n",
              "\n",
              "    .dataframe thead th {\n",
              "        text-align: right;\n",
              "    }\n",
              "</style>\n",
              "<table border=\"1\" class=\"dataframe\">\n",
              "  <thead>\n",
              "    <tr style=\"text-align: right;\">\n",
              "      <th></th>\n",
              "      <th>text</th>\n",
              "      <th>issuer_eng</th>\n",
              "    </tr>\n",
              "  </thead>\n",
              "  <tbody>\n",
              "    <tr>\n",
              "      <th>10042</th>\n",
              "      <td>3</td>\n",
              "      <td>UVD</td>\n",
              "    </tr>\n",
              "    <tr>\n",
              "      <th>34173</th>\n",
              "      <td>3</td>\n",
              "      <td>UVD</td>\n",
              "    </tr>\n",
              "    <tr>\n",
              "      <th>41403</th>\n",
              "      <td>3</td>\n",
              "      <td>UVD</td>\n",
              "    </tr>\n",
              "  </tbody>\n",
              "</table>\n",
              "</div>"
            ],
            "text/plain": [
              "       text issuer_eng\n",
              "10042     3        UVD\n",
              "34173     3        UVD\n",
              "41403     3        UVD"
            ]
          },
          "metadata": {
            "tags": []
          },
          "execution_count": 183
        }
      ]
    },
    {
      "cell_type": "markdown",
      "metadata": {
        "id": "rEDx8RhpYsDm"
      },
      "source": [
        "**Среднее количество символов в строке issuer_eng  - 65, медиана - 67**\n"
      ]
    },
    {
      "cell_type": "markdown",
      "metadata": {
        "id": "xtkl5RcfV_Cp"
      },
      "source": [
        "Модель 1\n",
        "\n",
        "---\n",
        "\n"
      ]
    },
    {
      "cell_type": "code",
      "metadata": {
        "id": "6zJLTDIaiskC"
      },
      "source": [
        "y = codes.issuer_eng\n",
        "X = codes[['dept_code', 'issue_date']]\n"
      ],
      "execution_count": null,
      "outputs": []
    },
    {
      "cell_type": "code",
      "metadata": {
        "id": "-jAlDbZSh0aX",
        "colab": {
          "base_uri": "https://localhost:8080/"
        },
        "outputId": "54c72fce-f895-4957-d35d-4de6395bd53f"
      },
      "source": [
        "# Разделим данные на тренировочную и тестовую выборку\n",
        "X_train, X_test, y_train, y_test = train_test_split(X, y, test_size = 1/5, random_state = 4)\n",
        "y_train.head()"
      ],
      "execution_count": null,
      "outputs": [
        {
          "output_type": "execute_result",
          "data": {
            "text/plain": [
              "88701    OTDELOM UFMS ROSSII PO SARATOVSKOJ OBLASTI V G...\n",
              "55283    OUFMS ROSSII PO IRKUTSKOJ OBLASTI V GOR BRATSK...\n",
              "43414    OTDELOM UFMS ROSSII PO VOLOGODSKOJ OBLASTI V G...\n",
              "40860    OTDELOM UFMS ROSSII PO VOLGOGRADSKOJ OBLASTI V...\n",
              "717      OTDELOM UFMS ROSSII PO RESPUBLIKE BASHKORTOSTA...\n",
              "Name: issuer_eng, dtype: object"
            ]
          },
          "metadata": {
            "tags": []
          },
          "execution_count": 185
        }
      ]
    },
    {
      "cell_type": "code",
      "metadata": {
        "id": "TKVYMS1X6ftb"
      },
      "source": [
        "def nearest(items, pivot): return min(items, key=lambda x: abs(x - pivot)) \n",
        "\n",
        "def autosuggestion_model(x_train, Y_train, x_test):\n",
        "  d_codes = []\n",
        "  i_dates = []\n",
        "  ids = []\n",
        "  texts = []\n",
        "\n",
        "  for i in range(len(x_test)):\n",
        "    d_code = int(x_test.dept_code.iloc[[i]])\n",
        "    d_codes.append(d_code)\n",
        "    i_date = x_test.issue_date.iloc[[i]].dt.date\n",
        "    i_dates.append(i_date.iloc[0])\n",
        "    df1 = x_train.loc[x_train.dept_code==d_code]\n",
        "    df2 = df1.loc[df1.issue_date.dt.date==nearest(df1.issue_date.dt.date, i_date.iloc[0])]\n",
        "    id = df2.index[0]\n",
        "    ids.append(id)\n",
        "    text = Y_train.loc[[id]]\n",
        "    texts.append(text.iloc[0])\n",
        "  \n",
        "  pred = {'dept_code': d_codes, 'issue_date': i_dates, 'issue_eng_pred': texts}\n",
        "  prediction = pd.DataFrame(pred, index=range(len(x_test)))\n",
        "  return prediction\n",
        "\n",
        "#autosuggestion_model(X_train, y_train, X_test)\n"
      ],
      "execution_count": null,
      "outputs": []
    },
    {
      "cell_type": "code",
      "metadata": {
        "id": "6slj5C3ar0Gh"
      },
      "source": [
        "prediction = autosuggestion_model(X_train, y_train, X_test)"
      ],
      "execution_count": null,
      "outputs": []
    },
    {
      "cell_type": "code",
      "metadata": {
        "id": "tDUYRkT2r8l3"
      },
      "source": [
        "prediction.to_excel('prediction1.xlsx')"
      ],
      "execution_count": null,
      "outputs": []
    },
    {
      "cell_type": "markdown",
      "metadata": {
        "id": "Ffgw7_UpnePP"
      },
      "source": [
        "Оценка точности модели\n",
        "\n",
        "---\n",
        "\n"
      ]
    },
    {
      "cell_type": "code",
      "metadata": {
        "colab": {
          "base_uri": "https://localhost:8080/",
          "height": 345
        },
        "id": "0eLzw0uVk-Ye",
        "outputId": "75b771b4-472c-46d4-817b-333a78dee801"
      },
      "source": [
        "%pip install /content/drive/MyDrive/datasets/python-Levenshtein-0.12.0.tar.gz"
      ],
      "execution_count": null,
      "outputs": [
        {
          "output_type": "stream",
          "text": [
            "Processing ./drive/MyDrive/datasets/python-Levenshtein-0.12.0.tar.gz\n",
            "Requirement already satisfied: setuptools in /usr/local/lib/python3.6/dist-packages (from python-Levenshtein==0.12.0) (50.3.2)\n",
            "Building wheels for collected packages: python-Levenshtein\n",
            "  Building wheel for python-Levenshtein (setup.py) ... \u001b[?25l\u001b[?25hdone\n",
            "  Created wheel for python-Levenshtein: filename=python_Levenshtein-0.12.0-cp36-cp36m-linux_x86_64.whl size=144791 sha256=255db90c19248f80c87a12dabbab7a1188da1b09e37354eb7c3d93006b1e8fcf\n",
            "  Stored in directory: /root/.cache/pip/wheels/fb/fc/18/2f8bfa7228d365b02baa14c06a2c9ea5d5677b1f2a20528eff\n",
            "Successfully built python-Levenshtein\n",
            "Installing collected packages: python-Levenshtein\n",
            "  Found existing installation: python-Levenshtein 0.12.0\n",
            "    Uninstalling python-Levenshtein-0.12.0:\n",
            "      Successfully uninstalled python-Levenshtein-0.12.0\n",
            "Successfully installed python-Levenshtein-0.12.0\n"
          ],
          "name": "stdout"
        },
        {
          "output_type": "display_data",
          "data": {
            "application/vnd.colab-display-data+json": {
              "pip_warning": {
                "packages": [
                  "Levenshtein"
                ]
              }
            }
          },
          "metadata": {
            "tags": []
          }
        }
      ]
    },
    {
      "cell_type": "code",
      "metadata": {
        "id": "iOBg6md2oCMm"
      },
      "source": [
        "import Levenshtein as lev"
      ],
      "execution_count": null,
      "outputs": []
    },
    {
      "cell_type": "code",
      "metadata": {
        "colab": {
          "base_uri": "https://localhost:8080/"
        },
        "id": "2PU2kJ6pppnT",
        "outputId": "9bed6fea-194c-471d-cbe5-2a312e227ab5"
      },
      "source": [
        "s1 = prediction.issue_eng_pred.head()\n",
        "s2 = y_test.head()\n",
        "print(s1.iloc[3],'\\\\', s2.iloc[3])"
      ],
      "execution_count": null,
      "outputs": [
        {
          "output_type": "stream",
          "text": [
            "OTDELOM UFMS ROSSII PO IRKUTSKOJ OBLASTI V GOR. ANGARSKE I ANGARSKOM R-NE \\ OTDEL UFMS ROSSII PO IRKUTSKOJ OBL. V G. ANGARSKE I ANGARSKOM R-NE\n"
          ],
          "name": "stdout"
        }
      ]
    },
    {
      "cell_type": "code",
      "metadata": {
        "id": "Pa0qq2Nao4bD"
      },
      "source": [
        "lev_distance = []\n",
        "for i in range(len(y_test)):\n",
        "  lev_distance.append(lev.distance(prediction.issue_eng_pred.iloc[i], y_test.iloc[i])) \n",
        "  "
      ],
      "execution_count": null,
      "outputs": []
    },
    {
      "cell_type": "code",
      "metadata": {
        "colab": {
          "base_uri": "https://localhost:8080/",
          "height": 395
        },
        "id": "8uu6g99cr9JK",
        "outputId": "f7b23b41-cb19-43cb-97bb-5d0c1552eff2"
      },
      "source": [
        "plt.hist(lev_distance, bins=20)"
      ],
      "execution_count": null,
      "outputs": [
        {
          "output_type": "execute_result",
          "data": {
            "text/plain": [
              "(array([1.9259e+04, 7.3500e+02, 2.6000e+02, 9.0000e+01, 9.4000e+01,\n",
              "        9.5000e+01, 8.9000e+01, 5.0000e+01, 5.4000e+01, 4.3000e+01,\n",
              "        3.9000e+01, 2.7000e+01, 1.6000e+01, 8.0000e+00, 1.2000e+01,\n",
              "        5.0000e+00, 2.0000e+00, 1.0000e+00, 1.0000e+00, 3.0000e+00]),\n",
              " array([ 0. ,  4.1,  8.2, 12.3, 16.4, 20.5, 24.6, 28.7, 32.8, 36.9, 41. ,\n",
              "        45.1, 49.2, 53.3, 57.4, 61.5, 65.6, 69.7, 73.8, 77.9, 82. ]),\n",
              " <a list of 20 Patch objects>)"
            ]
          },
          "metadata": {
            "tags": []
          },
          "execution_count": 193
        },
        {
          "output_type": "display_data",
          "data": {
            "image/png": "[encoded data removed]",
            "text/plain": [
              "<Figure size 432x288 with 1 Axes>"
            ]
          },
          "metadata": {
            "tags": [],
            "needs_background": "light"
          }
        }
      ]
    },
    {
      "cell_type": "code",
      "metadata": {
        "colab": {
          "base_uri": "https://localhost:8080/"
        },
        "id": "u35rjlCQIOdf",
        "outputId": "92d0f5a6-a0d8-4d9c-8ddd-53cf622688f4"
      },
      "source": [
        "max(lev_distance)"
      ],
      "execution_count": null,
      "outputs": [
        {
          "output_type": "execute_result",
          "data": {
            "text/plain": [
              "82"
            ]
          },
          "metadata": {
            "tags": []
          },
          "execution_count": 194
        }
      ]
    },
    {
      "cell_type": "code",
      "metadata": {
        "colab": {
          "base_uri": "https://localhost:8080/"
        },
        "id": "v8x9KRFeIgpL",
        "outputId": "e1cfb3d9-2eee-4f98-ab62-fd5284d941bc"
      },
      "source": [
        "min(lev_distance)"
      ],
      "execution_count": null,
      "outputs": [
        {
          "output_type": "execute_result",
          "data": {
            "text/plain": [
              "0"
            ]
          },
          "metadata": {
            "tags": []
          },
          "execution_count": 195
        }
      ]
    },
    {
      "cell_type": "code",
      "metadata": {
        "id": "I1_MbXcpAnsA"
      },
      "source": [
        "proportion = []\n",
        "for i in range(84):\n",
        "  sum_of_entries = 0\n",
        "  for num in lev_distance:\n",
        "    if num < i:\n",
        "      sum_of_entries += 1\n",
        "    else:\n",
        "      continue\n",
        "  share = sum_of_entries / len(lev_distance)\n",
        "  proportion.append(share)\n",
        "\n",
        "#print(proportion)"
      ],
      "execution_count": null,
      "outputs": []
    },
    {
      "cell_type": "code",
      "metadata": {
        "id": "dA7ubRSMPy-t"
      },
      "source": [
        "import matplotlib.ticker as ticker"
      ],
      "execution_count": null,
      "outputs": []
    },
    {
      "cell_type": "code",
      "metadata": {
        "colab": {
          "base_uri": "https://localhost:8080/",
          "height": 513
        },
        "id": "_jPGCm56HlWI",
        "outputId": "e85ebf46-416d-4a36-8e17-dbea49769e73"
      },
      "source": [
        "ld = list(range(84))\n",
        "fig, ax = plt.subplots(figsize=[10, 8])\n",
        "ax.plot(ld, proportion, linewidth=3)\n",
        "plt.title(\"Autosuggestion accuracy\")\n",
        "plt.xlabel(\"Levenshtein distance\")\n",
        "plt.ylabel(\"Proportion of predictions with smaller error\")\n",
        "ax.xaxis.set_major_locator(ticker.MultipleLocator(10))\n",
        "ax.xaxis.set_minor_locator(ticker.MultipleLocator(5))\n",
        "ax.yaxis.set_major_locator(ticker.MultipleLocator(0.2))\n",
        "ax.yaxis.set_minor_locator(ticker.MultipleLocator(0.1))\n",
        "ax.grid(which='major',\n",
        "        color = 'k', linewidth=0.5)\n",
        "ax.minorticks_on()\n",
        "ax.grid(which='minor',\n",
        "        color = 'gray',\n",
        "        linestyle = ':')\n",
        "plt.show()"
      ],
      "execution_count": null,
      "outputs": [
        {
          "output_type": "display_data",
          "data": {
            "image/png": "[encoded data removed]",
            "text/plain": [
              "<Figure size 720x576 with 1 Axes>"
            ]
          },
          "metadata": {
            "tags": [],
            "needs_background": "light"
          }
        }
      ]
    },
    {
      "cell_type": "markdown",
      "metadata": {
        "id": "e8XUoQIWUZT-"
      },
      "source": [
        "Таким образом, размер ошибок предсказаний данной модели составляет менее 8 символов для 95% предсказаний или менее 2 символов для 85%."
      ]
    },
    {
      "cell_type": "markdown",
      "metadata": {
        "id": "lu9EpwhgkvaF"
      },
      "source": [
        "Кластеринг\n",
        "\n",
        "\n",
        "---\n",
        "\n"
      ]
    },
    {
      "cell_type": "code",
      "metadata": {
        "id": "RmrjT1r3e-2v"
      },
      "source": [
        "y_tr = np.array(y_train)\n",
        "X_train[[\"issuer_eng\"]] = y_tr"
      ],
      "execution_count": null,
      "outputs": []
    },
    {
      "cell_type": "code",
      "metadata": {
        "colab": {
          "base_uri": "https://localhost:8080/",
          "height": 228
        },
        "id": "nCnOizwRbXqS",
        "outputId": "f2280cba-4192-4c12-9b48-527b66d690c0"
      },
      "source": [
        "issuer_eng_counted = X_train.groupby(by=[\"dept_code\", \"issuer_eng\"]).count()\n",
        "issuer_eng_counted.head() "
      ],
      "execution_count": null,
      "outputs": [
        {
          "output_type": "execute_result",
          "data": {
            "text/html": [
              "<div>\n",
              "<style scoped>\n",
              "    .dataframe tbody tr th:only-of-type {\n",
              "        vertical-align: middle;\n",
              "    }\n",
              "\n",
              "    .dataframe tbody tr th {\n",
              "        vertical-align: top;\n",
              "    }\n",
              "\n",
              "    .dataframe thead th {\n",
              "        text-align: right;\n",
              "    }\n",
              "</style>\n",
              "<table border=\"1\" class=\"dataframe\">\n",
              "  <thead>\n",
              "    <tr style=\"text-align: right;\">\n",
              "      <th></th>\n",
              "      <th></th>\n",
              "      <th>issue_date</th>\n",
              "    </tr>\n",
              "    <tr>\n",
              "      <th>dept_code</th>\n",
              "      <th>issuer_eng</th>\n",
              "      <th></th>\n",
              "    </tr>\n",
              "  </thead>\n",
              "  <tbody>\n",
              "    <tr>\n",
              "      <th rowspan=\"5\" valign=\"top\">20003</th>\n",
              "      <th>KALININSKIM RUVD G. UFY RESPUBLIKI BASHKORTOSTAN</th>\n",
              "      <td>1</td>\n",
              "    </tr>\n",
              "    <tr>\n",
              "      <th>KALININSKIM RUVD GOR.UFY RESPUBLIKIBASHKORTOSTAN</th>\n",
              "      <td>1</td>\n",
              "    </tr>\n",
              "    <tr>\n",
              "      <th>MVD PO RB</th>\n",
              "      <td>1</td>\n",
              "    </tr>\n",
              "    <tr>\n",
              "      <th>MVD PO RESPUBLIKE BASHKORTOSTAN</th>\n",
              "      <td>141</td>\n",
              "    </tr>\n",
              "    <tr>\n",
              "      <th>ORDZHONIKIDZEVSKIM RUVD GOR. UFY RESPUBLIKI BASHKORTOSTAN</th>\n",
              "      <td>1</td>\n",
              "    </tr>\n",
              "  </tbody>\n",
              "</table>\n",
              "</div>"
            ],
            "text/plain": [
              "                                                              issue_date\n",
              "dept_code issuer_eng                                                    \n",
              "20003     KALININSKIM RUVD G. UFY RESPUBLIKI BASHKORTOSTAN             1\n",
              "          KALININSKIM RUVD GOR.UFY RESPUBLIKIBASHKORTOSTAN             1\n",
              "          MVD PO RB                                                    1\n",
              "          MVD PO RESPUBLIKE BASHKORTOSTAN                            141\n",
              "          ORDZHONIKIDZEVSKIM RUVD GOR. UFY RESPUBLIKI BAS...           1"
            ]
          },
          "metadata": {
            "tags": []
          },
          "execution_count": 200
        }
      ]
    },
    {
      "cell_type": "code",
      "metadata": {
        "colab": {
          "base_uri": "https://localhost:8080/",
          "height": 228
        },
        "id": "128Et5Wq1Mpm",
        "outputId": "13cccbe8-30e2-495c-836a-1dbf1757ee66"
      },
      "source": [
        "issuer_eng_unique = issuer_eng_counted\n",
        "#\n",
        "# issuer_eng_counted.reset_index()\n",
        "#tx = t.issuer_eng\n",
        "txt = []\n",
        "#\n",
        "for i in range(len(issuer_eng_unique)):\n",
        "  t =issuer_eng_unique.index[i][1]\n",
        "  txt.append(t)\n",
        "\n",
        "txt = np.array(txt)\n",
        "issuer_eng_unique['texts'] = txt\n",
        "issuer_eng_unique = issuer_eng_unique.drop('issue_date',  axis=1)\n",
        "issuer_eng_unique.head()"
      ],
      "execution_count": null,
      "outputs": [
        {
          "output_type": "execute_result",
          "data": {
            "text/html": [
              "<div>\n",
              "<style scoped>\n",
              "    .dataframe tbody tr th:only-of-type {\n",
              "        vertical-align: middle;\n",
              "    }\n",
              "\n",
              "    .dataframe tbody tr th {\n",
              "        vertical-align: top;\n",
              "    }\n",
              "\n",
              "    .dataframe thead th {\n",
              "        text-align: right;\n",
              "    }\n",
              "</style>\n",
              "<table border=\"1\" class=\"dataframe\">\n",
              "  <thead>\n",
              "    <tr style=\"text-align: right;\">\n",
              "      <th></th>\n",
              "      <th></th>\n",
              "      <th>texts</th>\n",
              "    </tr>\n",
              "    <tr>\n",
              "      <th>dept_code</th>\n",
              "      <th>issuer_eng</th>\n",
              "      <th></th>\n",
              "    </tr>\n",
              "  </thead>\n",
              "  <tbody>\n",
              "    <tr>\n",
              "      <th rowspan=\"5\" valign=\"top\">20003</th>\n",
              "      <th>KALININSKIM RUVD G. UFY RESPUBLIKI BASHKORTOSTAN</th>\n",
              "      <td>KALININSKIM RUVD G. UFY RESPUBLIKI BASHKORTOSTAN</td>\n",
              "    </tr>\n",
              "    <tr>\n",
              "      <th>KALININSKIM RUVD GOR.UFY RESPUBLIKIBASHKORTOSTAN</th>\n",
              "      <td>KALININSKIM RUVD GOR.UFY RESPUBLIKIBASHKORTOSTAN</td>\n",
              "    </tr>\n",
              "    <tr>\n",
              "      <th>MVD PO RB</th>\n",
              "      <td>MVD PO RB</td>\n",
              "    </tr>\n",
              "    <tr>\n",
              "      <th>MVD PO RESPUBLIKE BASHKORTOSTAN</th>\n",
              "      <td>MVD PO RESPUBLIKE BASHKORTOSTAN</td>\n",
              "    </tr>\n",
              "    <tr>\n",
              "      <th>ORDZHONIKIDZEVSKIM RUVD GOR. UFY RESPUBLIKI BASHKORTOSTAN</th>\n",
              "      <td>ORDZHONIKIDZEVSKIM RUVD GOR. UFY RESPUBLIKI BA...</td>\n",
              "    </tr>\n",
              "  </tbody>\n",
              "</table>\n",
              "</div>"
            ],
            "text/plain": [
              "                                                                                                          texts\n",
              "dept_code issuer_eng                                                                                           \n",
              "20003     KALININSKIM RUVD G. UFY RESPUBLIKI BASHKORTOSTAN     KALININSKIM RUVD G. UFY RESPUBLIKI BASHKORTOSTAN\n",
              "          KALININSKIM RUVD GOR.UFY RESPUBLIKIBASHKORTOSTAN     KALININSKIM RUVD GOR.UFY RESPUBLIKIBASHKORTOSTAN\n",
              "          MVD PO RB                                                                                   MVD PO RB\n",
              "          MVD PO RESPUBLIKE BASHKORTOSTAN                                       MVD PO RESPUBLIKE BASHKORTOSTAN\n",
              "          ORDZHONIKIDZEVSKIM RUVD GOR. UFY RESPUBLIKI BAS...  ORDZHONIKIDZEVSKIM RUVD GOR. UFY RESPUBLIKI BA..."
            ]
          },
          "metadata": {
            "tags": []
          },
          "execution_count": 201
        }
      ]
    },
    {
      "cell_type": "code",
      "metadata": {
        "colab": {
          "base_uri": "https://localhost:8080/",
          "height": 250
        },
        "id": "6AUPbH7cQwlF",
        "outputId": "906c5701-1d95-4eb6-d09f-f6d2d3bc4344"
      },
      "source": [
        "issuer_eng_unique.filter(like=str(code), axis=0).iloc[1][0]"
      ],
      "execution_count": null,
      "outputs": [
        {
          "output_type": "execute_result",
          "data": {
            "text/html": [
              "<div>\n",
              "<style scoped>\n",
              "    .dataframe tbody tr th:only-of-type {\n",
              "        vertical-align: middle;\n",
              "    }\n",
              "\n",
              "    .dataframe tbody tr th {\n",
              "        vertical-align: top;\n",
              "    }\n",
              "\n",
              "    .dataframe thead th {\n",
              "        text-align: right;\n",
              "    }\n",
              "</style>\n",
              "<table border=\"1\" class=\"dataframe\">\n",
              "  <thead>\n",
              "    <tr style=\"text-align: right;\">\n",
              "      <th></th>\n",
              "      <th></th>\n",
              "      <th>texts</th>\n",
              "    </tr>\n",
              "    <tr>\n",
              "      <th>dept_code</th>\n",
              "      <th>issuer_eng</th>\n",
              "      <th></th>\n",
              "    </tr>\n",
              "  </thead>\n",
              "  <tbody>\n",
              "    <tr>\n",
              "      <th rowspan=\"4\" valign=\"top\">630005</th>\n",
              "      <th>OTDELOM UFMS ROSSII PO KRASNOJARSKOMU KRAJU I RESPUBLIKE TYVA V G. NORIL'SKE G. NORIL'SKE</th>\n",
              "      <td>OTDELOM UFMS ROSSII PO KRASNOJARSKOMU KRAJU I ...</td>\n",
              "    </tr>\n",
              "    <tr>\n",
              "      <th>OUFMS V GOR. NORIL'SKE</th>\n",
              "      <td>OUFMS V GOR. NORIL'SKE</td>\n",
              "    </tr>\n",
              "    <tr>\n",
              "      <th>UPRAVLENIEM VNUTRENNIH DEL ZASVIJAZHSKOGO RAJONA GORODA UL'JANOVSKA</th>\n",
              "      <td>UPRAVLENIEM VNUTRENNIH DEL ZASVIJAZHSKOGO RAJO...</td>\n",
              "    </tr>\n",
              "    <tr>\n",
              "      <th>UPRAVLENIEM VNUTRENNIH DEL ZASVIJAZHSKOGO RAJONA UL'JANOVSKOJ OBLASTI</th>\n",
              "      <td>UPRAVLENIEM VNUTRENNIH DEL ZASVIJAZHSKOGO RAJO...</td>\n",
              "    </tr>\n",
              "  </tbody>\n",
              "</table>\n",
              "</div>"
            ],
            "text/plain": [
              "                                                                                                          texts\n",
              "dept_code issuer_eng                                                                                           \n",
              "630005    OTDELOM UFMS ROSSII PO KRASNOJARSKOMU KRAJU I R...  OTDELOM UFMS ROSSII PO KRASNOJARSKOMU KRAJU I ...\n",
              "          OUFMS V GOR. NORIL'SKE                                                         OUFMS V GOR. NORIL'SKE\n",
              "          UPRAVLENIEM VNUTRENNIH DEL ZASVIJAZHSKOGO RAJON...  UPRAVLENIEM VNUTRENNIH DEL ZASVIJAZHSKOGO RAJO...\n",
              "          UPRAVLENIEM VNUTRENNIH DEL ZASVIJAZHSKOGO RAJON...  UPRAVLENIEM VNUTRENNIH DEL ZASVIJAZHSKOGO RAJO..."
            ]
          },
          "metadata": {
            "tags": []
          },
          "execution_count": 171
        }
      ]
    },
    {
      "cell_type": "code",
      "metadata": {
        "id": "Vt7TFGV9jv16"
      },
      "source": [
        "d_codes_list = X_train.dept_code\n",
        "d_codes_list = d_codes_list.unique()\n",
        "d_codes_list = list(d_codes_list)\n",
        "clustered_texts = []\n",
        "coddes = []\n",
        "unq_tx = []\n",
        "\n",
        "for code in d_codes_list:\n",
        "  unique_texts = issuer_eng_unique.filter(like=str(code), axis=0)\n",
        "  df_lev_dist = np.matrix(range(len(unique_texts)))\n",
        "  df_lev_dist = pd.DataFrame(df_lev_dist)\n",
        "  df_lev_dist = df_lev_dist.drop(labels = 0)  \n",
        "  \n",
        "  for i in range(len(unique_texts)):\n",
        "    row_lev_dist =np.empty(shape=[0, len(unique_texts)])\n",
        "    unq_tx.append(unique_texts.iloc[i][0])\n",
        "    for j in range(len(unique_texts)):\n",
        "      lev_dist = lev.distance(str(unique_texts.iloc[i][0]), str(unique_texts.iloc[j][0]))    \n",
        "      lev_dist = int(-1*lev_dist)\n",
        "      row_lev_dist = np.append(row_lev_dist, lev_dist)\n",
        "  \n",
        "    row_lev_dist = pd.Series(row_lev_dist)\n",
        "    df_lev_dist = df_lev_dist.append(row_lev_dist, ignore_index=True)\n",
        "\n",
        "  af = AffinityPropagation(max_iter=500, affinity='precomputed', convergence_iter=5).fit(df_lev_dist) \n",
        "  cluster_centers_indices = af.cluster_centers_indices_\n",
        "\n",
        "  for label in af.labels_:\n",
        "    index = cluster_centers_indices[label]\n",
        "    clustered_texts.append(str(unique_texts.iloc[index][0]))\n",
        "    coddes.append(code)\n",
        "  \n",
        "\n",
        "\n",
        "\n",
        "#print(len(clustered_texts)) "
      ],
      "execution_count": null,
      "outputs": []
    },
    {
      "cell_type": "code",
      "metadata": {
        "colab": {
          "base_uri": "https://localhost:8080/"
        },
        "id": "qAw9mN08qAo0",
        "outputId": "466e6b1d-d70a-45c4-efca-ec72c83daf34"
      },
      "source": [
        "len(unq_tx)"
      ],
      "execution_count": null,
      "outputs": [
        {
          "output_type": "execute_result",
          "data": {
            "text/plain": [
              "3817"
            ]
          },
          "metadata": {
            "tags": []
          },
          "execution_count": 203
        }
      ]
    },
    {
      "cell_type": "code",
      "metadata": {
        "colab": {
          "base_uri": "https://localhost:8080/",
          "height": 198
        },
        "id": "iZ7navSWRmCo",
        "outputId": "ee7343cb-f4bc-4934-bc24-bb17ad9ec94e"
      },
      "source": [
        "clu_tx = np.array(clustered_texts)\n",
        "codees = np.array(coddes)\n",
        "unq_tx = np.array(unq_tx)\n",
        "df_exemplars = pd.DataFrame(clu_tx, codees, columns=['cleaned_text'])\n",
        "df_exemplars[['issuer_eng']] = unq_tx\n",
        "df_exemplars.head()"
      ],
      "execution_count": null,
      "outputs": [
        {
          "output_type": "execute_result",
          "data": {
            "text/html": [
              "<div>\n",
              "<style scoped>\n",
              "    .dataframe tbody tr th:only-of-type {\n",
              "        vertical-align: middle;\n",
              "    }\n",
              "\n",
              "    .dataframe tbody tr th {\n",
              "        vertical-align: top;\n",
              "    }\n",
              "\n",
              "    .dataframe thead th {\n",
              "        text-align: right;\n",
              "    }\n",
              "</style>\n",
              "<table border=\"1\" class=\"dataframe\">\n",
              "  <thead>\n",
              "    <tr style=\"text-align: right;\">\n",
              "      <th></th>\n",
              "      <th>cleaned_text</th>\n",
              "      <th>issuer_eng</th>\n",
              "    </tr>\n",
              "  </thead>\n",
              "  <tbody>\n",
              "    <tr>\n",
              "      <th>640044</th>\n",
              "      <td>GU MVD ROSSII PO SARATOVSKOJ OBLASTI</td>\n",
              "      <td>GU MVD PO SARATOVSKOJ OBLASTI</td>\n",
              "    </tr>\n",
              "    <tr>\n",
              "      <th>640044</th>\n",
              "      <td>GU MVD ROSSII PO SARATOVSKOJ OBLASTI</td>\n",
              "      <td>GU MVD ROSSII PO SARATOVSKOJ OBLASTI</td>\n",
              "    </tr>\n",
              "    <tr>\n",
              "      <th>640044</th>\n",
              "      <td>GU MVD ROSSII PO SARATOVSKOJ OBLASTI</td>\n",
              "      <td>GU MVD ROSSII PO SARATOVSKOJ OBLASTI,</td>\n",
              "    </tr>\n",
              "    <tr>\n",
              "      <th>640044</th>\n",
              "      <td>GU MVD ROSSII PO SARATOVSKOJ OBLASTI</td>\n",
              "      <td>GU MVD ROSSII PO SARATOVSKOJ OBLASTNOJ</td>\n",
              "    </tr>\n",
              "    <tr>\n",
              "      <th>640044</th>\n",
              "      <td>OTDELOM UFMS ROSSII PO SARATOVSKOJ OBLASTI V G...</td>\n",
              "      <td>ODELOM UFMS ROSSII PO SARATOVSKOJ OBLASTI V GO...</td>\n",
              "    </tr>\n",
              "  </tbody>\n",
              "</table>\n",
              "</div>"
            ],
            "text/plain": [
              "                                             cleaned_text                                         issuer_eng\n",
              "640044               GU MVD ROSSII PO SARATOVSKOJ OBLASTI                      GU MVD PO SARATOVSKOJ OBLASTI\n",
              "640044               GU MVD ROSSII PO SARATOVSKOJ OBLASTI               GU MVD ROSSII PO SARATOVSKOJ OBLASTI\n",
              "640044               GU MVD ROSSII PO SARATOVSKOJ OBLASTI              GU MVD ROSSII PO SARATOVSKOJ OBLASTI,\n",
              "640044               GU MVD ROSSII PO SARATOVSKOJ OBLASTI             GU MVD ROSSII PO SARATOVSKOJ OBLASTNOJ\n",
              "640044  OTDELOM UFMS ROSSII PO SARATOVSKOJ OBLASTI V G...  ODELOM UFMS ROSSII PO SARATOVSKOJ OBLASTI V GO..."
            ]
          },
          "metadata": {
            "tags": []
          },
          "execution_count": 204
        }
      ]
    },
    {
      "cell_type": "code",
      "metadata": {
        "id": "AiCSlcZyHEW_"
      },
      "source": [
        "cl_tx = []\n",
        "c = X_train[['dept_code', 'issuer_eng']]\n",
        "for i in range(len(c)):\n",
        "  cod = c.dept_code.iloc[i]\n",
        "  txx = c.issuer_eng.iloc[i]\n",
        "  tx = df_exemplars.filter(like=str(cod), axis=0)\n",
        "  tx = tx.loc[tx.issuer_eng == txx] \n",
        "  cl_tx.append(tx.cleaned_text.item())\n"
      ],
      "execution_count": null,
      "outputs": []
    },
    {
      "cell_type": "code",
      "metadata": {
        "colab": {
          "base_uri": "https://localhost:8080/",
          "height": 525
        },
        "id": "WuAa_eF3vS2b",
        "outputId": "82085012-aa52-4f38-b0bc-ea7d858fb3ce"
      },
      "source": [
        "cl_txt = np.array(cl_tx)\n",
        "X_train[['clustered_issuer']] = cl_txt\n",
        "X_train.head()"
      ],
      "execution_count": null,
      "outputs": [
        {
          "output_type": "stream",
          "text": [
            "/usr/local/lib/python3.6/dist-packages/pandas/core/indexing.py:659: SettingWithCopyWarning: \n",
            "A value is trying to be set on a copy of a slice from a DataFrame.\n",
            "Try using .loc[row_indexer,col_indexer] = value instead\n",
            "\n",
            "See the caveats in the documentation: https://pandas.pydata.org/pandas-docs/stable/user_guide/indexing.html#returning-a-view-versus-a-copy\n",
            "  self.obj[k] = np.nan\n",
            "/usr/local/lib/python3.6/dist-packages/ipykernel_launcher.py:2: SettingWithCopyWarning: \n",
            "A value is trying to be set on a copy of a slice from a DataFrame.\n",
            "Try using .loc[row_indexer,col_indexer] = value instead\n",
            "\n",
            "See the caveats in the documentation: https://pandas.pydata.org/pandas-docs/stable/user_guide/indexing.html#returning-a-view-versus-a-copy\n",
            "  \n",
            "/usr/local/lib/python3.6/dist-packages/pandas/core/indexing.py:1743: SettingWithCopyWarning: \n",
            "A value is trying to be set on a copy of a slice from a DataFrame.\n",
            "Try using .loc[row_indexer,col_indexer] = value instead\n",
            "\n",
            "See the caveats in the documentation: https://pandas.pydata.org/pandas-docs/stable/user_guide/indexing.html#returning-a-view-versus-a-copy\n",
            "  isetter(ilocs[0], value)\n"
          ],
          "name": "stderr"
        },
        {
          "output_type": "execute_result",
          "data": {
            "text/html": [
              "<div>\n",
              "<style scoped>\n",
              "    .dataframe tbody tr th:only-of-type {\n",
              "        vertical-align: middle;\n",
              "    }\n",
              "\n",
              "    .dataframe tbody tr th {\n",
              "        vertical-align: top;\n",
              "    }\n",
              "\n",
              "    .dataframe thead th {\n",
              "        text-align: right;\n",
              "    }\n",
              "</style>\n",
              "<table border=\"1\" class=\"dataframe\">\n",
              "  <thead>\n",
              "    <tr style=\"text-align: right;\">\n",
              "      <th></th>\n",
              "      <th>dept_code</th>\n",
              "      <th>issue_date</th>\n",
              "      <th>issuer_eng</th>\n",
              "      <th>clustered_issuer</th>\n",
              "    </tr>\n",
              "  </thead>\n",
              "  <tbody>\n",
              "    <tr>\n",
              "      <th>88701</th>\n",
              "      <td>640044</td>\n",
              "      <td>2013-07-12</td>\n",
              "      <td>OTDELOM UFMS ROSSII PO SARATOVSKOJ OBLASTI V G...</td>\n",
              "      <td>OTDELOM UFMS ROSSII PO SARATOVSKOJ OBLASTI V G...</td>\n",
              "    </tr>\n",
              "    <tr>\n",
              "      <th>55283</th>\n",
              "      <td>380010</td>\n",
              "      <td>2008-01-12</td>\n",
              "      <td>OUFMS ROSSII PO IRKUTSKOJ OBLASTI V GOR BRATSK...</td>\n",
              "      <td>OUFMS ROSSII PO IRKUTSKOJ OBLASTI V GOR BRATSK...</td>\n",
              "    </tr>\n",
              "    <tr>\n",
              "      <th>43414</th>\n",
              "      <td>350002</td>\n",
              "      <td>2017-09-11</td>\n",
              "      <td>OTDELOM UFMS ROSSII PO VOLOGODSKOJ OBLASTI V G...</td>\n",
              "      <td>OTDELOM UFMS ROSSII PO VOLOGODSKOJ OBLASTI V G...</td>\n",
              "    </tr>\n",
              "    <tr>\n",
              "      <th>40860</th>\n",
              "      <td>340011</td>\n",
              "      <td>2015-12-06</td>\n",
              "      <td>OTDELOM UFMS ROSSII PO VOLGOGRADSKOJ OBLASTI V...</td>\n",
              "      <td>OTDELOM UFMS ROSSII PO VOLGOGRADSKOJ OBLASTI V...</td>\n",
              "    </tr>\n",
              "    <tr>\n",
              "      <th>717</th>\n",
              "      <td>20003</td>\n",
              "      <td>2010-11-11</td>\n",
              "      <td>OTDELOM UFMS ROSSII PO RESPUBLIKE BASHKORTOSTA...</td>\n",
              "      <td>OTDELOM UFMS ROSSII PO RESPUBLIKE BASHKORTOSTA...</td>\n",
              "    </tr>\n",
              "  </tbody>\n",
              "</table>\n",
              "</div>"
            ],
            "text/plain": [
              "       dept_code  ...                                   clustered_issuer\n",
              "88701     640044  ...  OTDELOM UFMS ROSSII PO SARATOVSKOJ OBLASTI V G...\n",
              "55283     380010  ...  OUFMS ROSSII PO IRKUTSKOJ OBLASTI V GOR BRATSK...\n",
              "43414     350002  ...  OTDELOM UFMS ROSSII PO VOLOGODSKOJ OBLASTI V G...\n",
              "40860     340011  ...  OTDELOM UFMS ROSSII PO VOLGOGRADSKOJ OBLASTI V...\n",
              "717        20003  ...  OTDELOM UFMS ROSSII PO RESPUBLIKE BASHKORTOSTA...\n",
              "\n",
              "[5 rows x 4 columns]"
            ]
          },
          "metadata": {
            "tags": []
          },
          "execution_count": 210
        }
      ]
    },
    {
      "cell_type": "markdown",
      "metadata": {
        "id": "BcmPkX2-Ibjc"
      },
      "source": [
        "Модель 2\n",
        "\n",
        "\n",
        "---\n",
        "\n"
      ]
    },
    {
      "cell_type": "code",
      "metadata": {
        "id": "1VIwB2QNJDPT"
      },
      "source": [
        "y_train = X_train.clustered_issuer\n",
        "X_train = X_train[['dept_code', 'issue_date']]"
      ],
      "execution_count": null,
      "outputs": []
    },
    {
      "cell_type": "code",
      "metadata": {
        "id": "whNXGPQ6JNUc"
      },
      "source": [
        "prediction = autosuggestion_model(X_train, y_train, X_test)"
      ],
      "execution_count": null,
      "outputs": []
    },
    {
      "cell_type": "code",
      "metadata": {
        "id": "Daen8pXfJZTr"
      },
      "source": [
        "lev_distance = []\n",
        "for i in range(len(y_test)):\n",
        "  lev_distance.append(lev.distance(prediction.issue_eng_pred.iloc[i], y_test.iloc[i])) \n",
        "  "
      ],
      "execution_count": null,
      "outputs": []
    },
    {
      "cell_type": "code",
      "metadata": {
        "id": "WGAoCfzaJjHd"
      },
      "source": [
        "proportion = []\n",
        "for i in range(84):\n",
        "  sum_of_entries = 0\n",
        "  for num in lev_distance:\n",
        "    if num < i:\n",
        "      sum_of_entries += 1\n",
        "    else:\n",
        "      continue\n",
        "  share = sum_of_entries / len(lev_distance)\n",
        "  proportion.append(share)\n",
        "\n",
        "#print(proportion)"
      ],
      "execution_count": null,
      "outputs": []
    },
    {
      "cell_type": "code",
      "metadata": {
        "colab": {
          "base_uri": "https://localhost:8080/",
          "height": 513
        },
        "id": "JHwObQjrJo4Y",
        "outputId": "e95579f3-b679-42a3-9062-5399322b857c"
      },
      "source": [
        "ld = list(range(84))\n",
        "fig, ax = plt.subplots(figsize=[10, 8])\n",
        "ax.plot(ld, proportion, linewidth=3)\n",
        "plt.title(\"Autosuggestion accuracy\")\n",
        "plt.xlabel(\"Levenshtein distance\")\n",
        "plt.ylabel(\"Proportion of predictions with smaller error\")\n",
        "ax.xaxis.set_major_locator(ticker.MultipleLocator(10))\n",
        "ax.xaxis.set_minor_locator(ticker.MultipleLocator(5))\n",
        "ax.yaxis.set_major_locator(ticker.MultipleLocator(0.2))\n",
        "ax.yaxis.set_minor_locator(ticker.MultipleLocator(0.1))\n",
        "ax.grid(which='major',\n",
        "        color = 'k', linewidth=0.5)\n",
        "ax.minorticks_on()\n",
        "ax.grid(which='minor',\n",
        "        color = 'gray',\n",
        "        linestyle = ':')\n",
        "plt.show()"
      ],
      "execution_count": null,
      "outputs": [
        {
          "output_type": "display_data",
          "data": {
            "image/png": "[encoded data removed]",
            "text/plain": [
              "<Figure size 720x576 with 1 Axes>"
            ]
          },
          "metadata": {
            "tags": [],
            "needs_background": "light"
          }
        }
      ]
    },
    {
      "cell_type": "markdown",
      "metadata": {
        "id": "aqNM03DFkwyx"
      },
      "source": [
        "Таким образом, размер ошибок предсказаний данной модели сократился до  менее 2 символов для 95% предсказаний."
      ]
    }
  ]
}