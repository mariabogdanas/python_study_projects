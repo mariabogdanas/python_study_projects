{
  "nbformat": 4,
  "nbformat_minor": 0,
  "metadata": {
    "colab": {
      "name": "parameters.ipynb",
      "provenance": [],
      "authorship_tag": "ABX9TyN+R3bA6bpBC0ar9/KAjbTW"
    },
    "kernelspec": {
      "name": "python3",
      "display_name": "Python 3"
    }
  },
  "cells": [
    {
      "cell_type": "code",
      "metadata": {
        "id": "35Gstn_wllrM"
      },
      "source": [
        "import numpy as np\n",
        "import sympy as sy"
      ],
      "execution_count": null,
      "outputs": []
    },
    {
      "cell_type": "code",
      "metadata": {
        "id": "5CnYMA8NpFWs"
      },
      "source": [
        "def W_matrix(N):\n",
        "  W = np.empty(shape=(N, N))\n",
        "  for i in range(N):\n",
        "    w_i = np.random.random(size=N)\n",
        "    w_i /= w_i.sum()\n",
        "    W[i] = w_i\n",
        "  return W\n",
        "  "
      ],
      "execution_count": null,
      "outputs": []
    },
    {
      "cell_type": "code",
      "metadata": {
        "id": "FN14CH3DQYZR"
      },
      "source": [
        "N = 2\n",
        "z = np.random.normal(size=N) #mean=0 and sigma=1\n",
        "e = np.log(np.abs(z))\n",
        "e_sy = sy.Matrix(e)\n",
        "a = sy.symbols('a', real=True)\n",
        "\n",
        "W = W_matrix(N)\n",
        "W_sy = sy.Matrix(W) \n",
        "\n",
        "S = np.identity(N) - (1-a)*W_sy\n",
        "S_inv = S**-1\n",
        "\n",
        "log_P = S_inv*e_sy\n",
        "v = a/N*sy.Matrix(np.ones(N)).T*S_inv\n",
        "log_h = v @ e_sy\n",
        "\n",
        "a_h = log_h*a"
      ],
      "execution_count": null,
      "outputs": []
    },
    {
      "cell_type": "code",
      "metadata": {
        "id": "KmLRYdIekj34",
        "colab": {
          "base_uri": "https://localhost:8080/"
        },
        "outputId": "573a37ac-cbe2-4504-ae5a-aee7b319b881"
      },
      "source": [
        "f_j = 0\n",
        "for j in range(N):\n",
        "  f_j += W[0][j]*log_P[j] - W[0][j]*sy.log(W[0][j])\n",
        "\n",
        "f = a*e_sy[0] + a*sy.log(a) + (1-a)*sy.log(1-a)+ log_P[0]- a_h[0] - (1-a)*f_j\n",
        "\n",
        "func = sy.lambdify(a, f, 'numpy')\n",
        "\n",
        "interval = np.linspace(0, 1, num=10000000) #интервал альф от 0 до 1\n",
        "f_int = func(interval)\n",
        "\n",
        "indices = np.where(np.round(f_int, 6) == 0)[0]\n",
        "alfa = interval[indices[0]]\n",
        "f_final = f_int[indices[0]]"
      ],
      "execution_count": null,
      "outputs": [
        {
          "output_type": "stream",
          "text": [
            "<string>:2: RuntimeWarning: invalid value encountered in true_divide\n",
            "<string>:2: RuntimeWarning: divide by zero encountered in log\n",
            "<string>:2: RuntimeWarning: invalid value encountered in multiply\n",
            "<string>:2: RuntimeWarning: divide by zero encountered in true_divide\n",
            "<string>:2: RuntimeWarning: invalid value encountered in add\n"
          ],
          "name": "stderr"
        }
      ]
    },
    {
      "cell_type": "code",
      "metadata": {
        "id": "cOzWQy8XTBUh"
      },
      "source": [
        "a = alfa\n",
        "\n",
        "S = np.identity(N) - (1-a)*W_sy\n",
        "S_inv = S**-1\n",
        "\n",
        "log_P = S_inv*e_sy\n",
        "v=a/N*sy.Matrix(np.ones(N)).T*S_inv\n",
        "log_h = v @ e_sy\n",
        "\n",
        "a_h = log_h*a"
      ],
      "execution_count": null,
      "outputs": []
    },
    {
      "cell_type": "code",
      "metadata": {
        "colab": {
          "base_uri": "https://localhost:8080/"
        },
        "id": "wUmG1C17Uadf",
        "outputId": "72bcf9d2-ad33-4ff2-8888-a2fc6a052535"
      },
      "source": [
        "a"
      ],
      "execution_count": null,
      "outputs": [
        {
          "output_type": "execute_result",
          "data": {
            "text/plain": [
              "0.9181705918170592"
            ]
          },
          "metadata": {
            "tags": []
          },
          "execution_count": 113
        }
      ]
    },
    {
      "cell_type": "code",
      "metadata": {
        "colab": {
          "base_uri": "https://localhost:8080/",
          "height": 314
        },
        "id": "ORAaNyANnX1A",
        "outputId": "e9a1fb9c-f1e5-4992-b484-2cd4f9882c54"
      },
      "source": [
        "sy.plot(f, ylim=(-2, 2), xlim=(0, 1.1))"
      ],
      "execution_count": null,
      "outputs": [
        {
          "output_type": "display_data",
          "data": {
            "image/png": "[encoded data removed]",
            "text/plain": [
              "<Figure size 432x288 with 1 Axes>"
            ]
          },
          "metadata": {
            "tags": [],
            "needs_background": "light"
          }
        },
        {
          "output_type": "execute_result",
          "data": {
            "text/plain": [
              "<sympy.plotting.plot.Plot at 0x7f000402f790>"
            ]
          },
          "metadata": {
            "tags": []
          },
          "execution_count": 114
        }
      ]
    },
    {
      "cell_type": "code",
      "metadata": {
        "colab": {
          "base_uri": "https://localhost:8080/",
          "height": 284
        },
        "id": "6JPS_H-JhuHb",
        "outputId": "60b7cefd-61bc-465a-92cb-19b03a622671"
      },
      "source": [
        "import matplotlib.pyplot as plt\n",
        "\n",
        "plt.plot(interval, f_int)\n",
        "plt.plot([0,0])"
      ],
      "execution_count": null,
      "outputs": [
        {
          "output_type": "execute_result",
          "data": {
            "text/plain": [
              "[<matplotlib.lines.Line2D at 0x7f0003eec550>]"
            ]
          },
          "metadata": {
            "tags": []
          },
          "execution_count": 115
        },
        {
          "output_type": "display_data",
          "data": {
            "image/png": "[encoded data removed]",
            "text/plain": [
              "<Figure size 432x288 with 1 Axes>"
            ]
          },
          "metadata": {
            "tags": [],
            "needs_background": "light"
          }
        }
      ]
    },
    {
      "cell_type": "code",
      "metadata": {
        "colab": {
          "base_uri": "https://localhost:8080/"
        },
        "id": "SodwcOgUbXGN",
        "outputId": "00f6ae7b-3b17-4c18-e0c1-190ec5115721"
      },
      "source": [
        "log_p = np.array(log_P).flatten()\n",
        "\n",
        "P = [sy.exp(i) for i in log_p]\n",
        "P = np.array(P)\n",
        "P\n",
        "\n",
        "h = [sy.exp(i) for i in log_h]\n",
        "h = np.array(h)\n",
        "h"
      ],
      "execution_count": null,
      "outputs": [
        {
          "output_type": "execute_result",
          "data": {
            "text/plain": [
              "array([1.07195646636308], dtype=object)"
            ]
          },
          "metadata": {
            "tags": []
          },
          "execution_count": 116
        }
      ]
    },
    {
      "cell_type": "code",
      "metadata": {
        "id": "6kGtgJXXuS6N"
      },
      "source": [
        "def x_from_delta(delta):\n",
        "  x = []\n",
        "  for i in range(N):\n",
        "    x_i = sy.symbols('x_{0}'.format(i), real=True)\n",
        "    x.append(x_i)\n",
        "\n",
        "  X_matrix = []\n",
        "  for i in range(N):\n",
        "    X_i = []\n",
        "    for j in range(N):\n",
        "      X_ij = (1-a)*P[i]*W[i][j]*x[i]/P[j]\n",
        "      X_i.append(X_ij)\n",
        "    X_matrix.append(X_i)\n",
        "  X_matrix = np.array(X_matrix)\n",
        "  \n",
        "  p_p = np.prod(P) #перемножение цен \n",
        "  C = []\n",
        "  for i in range(N):\n",
        "    c_i = h[0]/(2*P[i])+(h[0]*sy.log(2*p_p)-h[0]*P[i]*sy.log(p_p))*delta/(4*P[i]**2)\n",
        "    C.append(c_i)\n",
        "\n",
        "  system = []\n",
        "  for i in range(N):\n",
        "    eq_i = C[i] + sum(X_matrix.T[i]) - x[i]\n",
        "    system.append(eq_i)\n",
        "\n",
        "  solution = sy.linsolve(system, x)\n",
        "  x_final = solution.args[0]\n",
        "  return x_final  "
      ],
      "execution_count": null,
      "outputs": []
    },
    {
      "cell_type": "code",
      "metadata": {
        "colab": {
          "base_uri": "https://localhost:8080/",
          "height": 36
        },
        "id": "ZzIv48xAvsag",
        "outputId": "ca5b165a-52f4-4490-d0bf-b4e3788d7ab3"
      },
      "source": [
        "delta = np.random.uniform(low=-0.0001, high=0.0001)\n",
        "x_fin = x_from_delta(delta) \n",
        "x_fin"
      ],
      "execution_count": null,
      "outputs": [
        {
          "output_type": "execute_result",
          "data": {
            "text/latex": "$\\displaystyle \\left( 0.491021202671013, \\  0.595202815139306\\right)$",
            "text/plain": [
              "(0.491021202671013, 0.595202815139306)"
            ]
          },
          "metadata": {
            "tags": []
          },
          "execution_count": 118
        }
      ]
    },
    {
      "cell_type": "code",
      "metadata": {
        "colab": {
          "base_uri": "https://localhost:8080/",
          "height": 37
        },
        "id": "6iz1NDXawq48",
        "outputId": "74944f2c-d652-4a77-b32d-079369c61835"
      },
      "source": [
        "#если нужно посмотреть зависимость от неизвестной дельты\n",
        "d = sy.Symbol('delta')\n",
        "x_d = x_from_delta(d)\n",
        "x_d"
      ],
      "execution_count": null,
      "outputs": [
        {
          "output_type": "execute_result",
          "data": {
            "text/latex": "$\\displaystyle \\left( 0.13338339250668 \\delta + 0.49103062943695, \\  0.221768282326382 \\delta + 0.595218488437536\\right)$",
            "text/plain": [
              "(0.13338339250668*delta + 0.49103062943695, 0.221768282326382*delta + 0.595218488437536)"
            ]
          },
          "metadata": {
            "tags": []
          },
          "execution_count": 119
        }
      ]
    },
    {
      "cell_type": "code",
      "metadata": {
        "colab": {
          "base_uri": "https://localhost:8080/"
        },
        "id": "3Ws8PfXbNftJ",
        "outputId": "f32a4f42-d51a-4aba-cf9d-739f182c2564"
      },
      "source": [
        "sum_p_j_x = 0\n",
        "for j in range(N):\n",
        "  sum_p_j_x += P[j]*x_fin[j]\n",
        "\n",
        "V_delta = []\n",
        "for i in range(N):\n",
        "  v_i = P[i]*x_fin[i]/(sum_p_j_x - P[i]*x_fin[i])\n",
        "  V_delta.append(v_i)\n",
        "V_delta"
      ],
      "execution_count": null,
      "outputs": [
        {
          "output_type": "execute_result",
          "data": {
            "text/plain": [
              "[1.09695889562570, 0.911611186150784]"
            ]
          },
          "metadata": {
            "tags": []
          },
          "execution_count": 120
        }
      ]
    }
  ]
}